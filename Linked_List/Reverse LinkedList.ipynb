{
 "cells": [
  {
   "cell_type": "code",
   "execution_count": null,
   "metadata": {},
   "outputs": [],
   "source": [
    "#https://leetcode.com/problems/reverse-linked-list/\n",
    "\n",
    "# None 1 -> 2 -> 3 -> None\n",
    "# |    |    | \n",
    "# p    H    H.Next\n",
    "\n",
    "\n",
    "class Solution:\n",
    "    def reverseList(self, head: Optional[ListNode]) -> Optional[ListNode]:\n",
    "        prev = None\n",
    "\n",
    "#While there are nodes to be travered\n",
    "\n",
    "        while head != None:\n",
    "            #storing my next\n",
    "            next_node = head.next #2\n",
    "            #change my pointer\n",
    "            head.next = prev #None\n",
    "            #reset\n",
    "            prev = head #1\n",
    "            head = next_node #2\n",
    "        return prev\n",
    "\n",
    "        \n",
    "\n",
    "\n",
    "\n",
    "\n"
   ]
  }
 ],
 "metadata": {
  "language_info": {
   "name": "python"
  }
 },
 "nbformat": 4,
 "nbformat_minor": 2
}
