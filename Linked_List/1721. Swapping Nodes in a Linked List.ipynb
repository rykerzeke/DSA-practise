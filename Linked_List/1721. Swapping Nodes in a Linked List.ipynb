{
 "cells": [
  {
   "cell_type": "code",
   "execution_count": null,
   "metadata": {},
   "outputs": [],
   "source": [
    "# Definition for singly-linked list.\n",
    "# class ListNode:\n",
    "#     def __init__(self, val=0, next=None):\n",
    "#         self.val = val\n",
    "#         self.next = next\n",
    "class Solution:\n",
    "    def swapNodes(self, head: Optional[ListNode], k: int) -> Optional[ListNode]:\n",
    "        while head is None:\n",
    "            return head\n",
    "\n",
    "        first = second = head\n",
    "        for i in range(k-1):\n",
    "            first = first.next\n",
    "\n",
    "        tail = first\n",
    "        while tail.next:\n",
    "            second = second.next\n",
    "            tail = tail.next\n",
    "\n",
    "        first.val, second.val = second.val, first.val\n",
    "        return head\n",
    "\n",
    "        \n",
    "\n",
    "        "
   ]
  },
  {
   "cell_type": "code",
   "execution_count": null,
   "metadata": {},
   "outputs": [],
   "source": [
    "# here we have created a arr and then converted it back to a linked list\n",
    "class Solution:\n",
    "    def swapNodes(self, head: Optional[ListNode], k: int) -> Optional[ListNode]:\n",
    "        cur=head\n",
    "        arr=[]\n",
    "        while cur:\n",
    "            arr.append(cur.val)\n",
    "            cur=cur.next\n",
    "\n",
    "        arr[k-1],arr[-k]=arr[-k],arr[k-1]\n",
    "        dummy=cur=ListNode(0)\n",
    "        for a in arr:\n",
    "            cur.next=ListNode(a)\n",
    "            cur=cur.next\n",
    "\n",
    "        return dummy.next        "
   ]
  },
  {
   "cell_type": "code",
   "execution_count": null,
   "metadata": {},
   "outputs": [],
   "source": [
    "class Solution:\n",
    "             def swapNodes(self, head: Optional[ListNode], k: int) -> Optional[ListNode]:\n",
    "        if head is None:\n",
    "            return head\n",
    "\n",
    "        # Calculate the length of the linked list\n",
    "        length = 0\n",
    "        current = head\n",
    "        while current:\n",
    "            length += 1\n",
    "            current = current.next\n",
    "\n",
    "        # Check if k is valid\n",
    "        if k < 1 or k > length:\n",
    "            return head\n",
    "\n",
    "        # Find the kth node from the beginning\n",
    "        first = head\n",
    "        for i in range(k - 1):\n",
    "            first = first.next\n",
    "\n",
    "        # Find the kth node from the end\n",
    "        second = head\n",
    "        for j in range(length - k):\n",
    "            second = second.next\n",
    "\n",
    "        # Swap values of the nodes\n",
    "        first.val, second.val = second.val, first.val\n",
    "\n",
    "        return head\n"
   ]
  }
 ],
 "metadata": {
  "language_info": {
   "name": "python"
  }
 },
 "nbformat": 4,
 "nbformat_minor": 2
}
