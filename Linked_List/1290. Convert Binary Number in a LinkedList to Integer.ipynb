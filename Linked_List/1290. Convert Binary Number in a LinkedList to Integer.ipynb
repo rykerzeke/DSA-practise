{
 "cells": [
  {
   "cell_type": "code",
   "execution_count": null,
   "metadata": {},
   "outputs": [],
   "source": [
    "#https://leetcode.com/problems/convert-binary-number-in-a-linked-list-to-integer/description/\n",
    "\n",
    "#Here we are using the array as a way to store the values of LL. Here have to return the int value as we are storing the binary values in the array\n",
    "class Solution:\n",
    "             def getDecimalValue(self, head: ListNode) -> int:\n",
    "        if head is None:\n",
    "            return 0  # Return 0 for an empty linked list\n",
    "        \n",
    "        curr = head #Traverse the linked list and append the val attribute to the array\n",
    "        array = []\n",
    "        while curr:\n",
    "            array.append(curr.val)\n",
    "            curr = curr.next\n",
    "        \n",
    "        \n",
    "        decimal_value = 0 #Calculate the decimal value from the binary represented by the array\n",
    "        for digit in array:\n",
    "            decimal_value = decimal_value * 2 + digit\n",
    "        \n",
    "        return decimal_value"
   ]
  },
  {
   "cell_type": "code",
   "execution_count": null,
   "metadata": {},
   "outputs": [],
   "source": [
    "#Here we are using the string as a way to store the values of LL. \n",
    "\n",
    "class Solution:\n",
    "             def getDecimalValue(self, head: ListNode) -> int:\n",
    "                             \n",
    "        if head is None: \n",
    "            return 0  \n",
    "        \n",
    "        \n",
    "        curr = head #Traverse the linked list and append the val attribute to the array\n",
    "        s = \"\"\n",
    "        while curr:\n",
    "            s += str(curr.val)\n",
    "            curr = curr.next\n",
    "        \n",
    "        dv = int(s, 2) #Calculate the decimal value from the binary represented by the array\n",
    "\n",
    "        return dv"
   ]
  }
 ],
 "metadata": {
  "language_info": {
   "name": "python"
  }
 },
 "nbformat": 4,
 "nbformat_minor": 2
}
