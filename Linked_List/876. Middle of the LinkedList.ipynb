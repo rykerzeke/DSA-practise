{
 "cells": [
  {
   "cell_type": "code",
   "execution_count": null,
   "metadata": {},
   "outputs": [],
   "source": [
    "# Definition for singly-linked list.\n",
    "# class ListNode:\n",
    "#     def __init__(self, val=0, next=None):\n",
    "#         self.val = val\n",
    "#         self.next = next\n",
    "class Solution:\n",
    "    def middleNode(self, head: Optional[ListNode]) -> Optional[ListNode]:\n",
    "        if head is None:\n",
    "            return None\n",
    "\n",
    "        single = double = head\n",
    "        while double is not None and double.next is not None:\n",
    "            single = single.next\n",
    "            double = double.next.next\n",
    "\n",
    "        return single\n",
    "\n",
    "\n",
    "\n",
    "            "
   ]
  },
  {
   "cell_type": "code",
   "execution_count": null,
   "metadata": {},
   "outputs": [],
   "source": [
    "#Alteranativly this can be written as:\n",
    "#In Python, when an expression involving the and operator is evaluated, Python evaluates the expressions from left to right. If all expressions are evaluated to True, Python returns the value of the last expression. If any expression evaluates to False, Python short-circuits and returns the value of that expression without evaluating the remaining expressions.\n",
    "class Solution:\n",
    "             def middleNode(self, head: Optional[ListNode]) -> Optional[ListNode]:\n",
    "        slow = fast = head\n",
    "        while fast and fast.next: \n",
    "            slow = slow.next\n",
    "            fast = fast.next.next\n",
    "        return slow\n"
   ]
  }
 ],
 "metadata": {
  "language_info": {
   "name": "python"
  }
 },
 "nbformat": 4,
 "nbformat_minor": 2
}
