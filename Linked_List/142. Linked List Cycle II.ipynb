{
 "cells": [
  {
   "cell_type": "code",
   "execution_count": null,
   "metadata": {},
   "outputs": [],
   "source": [
    "#https://leetcode.com/problems/linked-list-cycle-ii/\n",
    "class Solution:\n",
    "             def detectCycle(self, head: Optional[ListNode]) -> Optional[ListNode]:\n",
    "                  single = double = head\n",
    "                  p = None\n",
    "                  while double and double.next is not None:\n",
    "                           double = double.next.next\n",
    "                           single = single.next\n",
    "                           if double == single:\n",
    "                                    p = head\n",
    "                                    while p != single:\n",
    "                                             p = p.next\n",
    "                                             single = single.next\n",
    "                                    return p\n",
    "                  return None\n"
   ]
  }
 ],
 "metadata": {
  "language_info": {
   "name": "python"
  }
 },
 "nbformat": 4,
 "nbformat_minor": 2
}
