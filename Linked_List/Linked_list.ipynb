{
 "cells": [
  {
   "cell_type": "code",
   "execution_count": 31,
   "metadata": {},
   "outputs": [],
   "source": [
    "class Node:\n",
    "    def __init__(self,value):\n",
    "        self.value = value\n",
    "        self.next = None #By default we take it as None so that we have a empty linkedlist case.\n",
    "        \n",
    "class LinkedList:\n",
    "    def __init__(self):\n",
    "        self.head = None #Here head is just a pointer that is used to traverse in the linked list   \n",
    "    \n",
    "    def insertAtBegin(self,value):\n",
    "        new_node = Node(value) #invking the parent class of Node and passing of the value as argument. That is picked up by the Node class as parametre and stored onto new_node variable.\n",
    "        if self.head is None:\n",
    "            self.head = new_node # We pass on the value of new_node onto the head ex: Head = 3 as new_node = 3 cuz we passed the argument of value as 3.\n",
    "        else:\n",
    "            new_node.next = self.head  ##Here we are going the the next value of the Linkedlist with the help of the head pointer \n",
    "            \n",
    "            self.head = new_node \n",
    "            #same as above\n",
    "            #Now we have made Head as our new Node as we have called the value put into the new_node by the parent class Node, by using it's value parametre that is passed as an argument by the user.\n",
    "\n",
    "\n",
    "\n",
    "        \n",
    "    def printLL(self):\n",
    "        current = self.head\n",
    "        while current:\n",
    "            print(current.value, end = \"->\")\n",
    "            current = current.next\n",
    "        print(\"None\")\n",
    "        \n"
   ]
  },
  {
   "cell_type": "code",
   "execution_count": 32,
   "metadata": {},
   "outputs": [],
   "source": [
    "# Create a new linked list\n",
    "my_linked_list = LinkedList()\n",
    "\n",
    "my_linked_list.insertAtBegin(3)\n",
    "my_linked_list.insertAtBegin(7)\n",
    "my_linked_list.insertAtBegin(11)\n",
    "\n"
   ]
  },
  {
   "cell_type": "code",
   "execution_count": 33,
   "metadata": {},
   "outputs": [
    {
     "name": "stdout",
     "output_type": "stream",
     "text": [
      "11->7->3->None\n"
     ]
    }
   ],
   "source": [
    "my_linked_list.printLL()"
   ]
  },
  {
   "cell_type": "code",
   "execution_count": null,
   "metadata": {},
   "outputs": [],
   "source": []
  }
 ],
 "metadata": {
  "kernelspec": {
   "display_name": "Stream",
   "language": "python",
   "name": "python3"
  },
  "language_info": {
   "codemirror_mode": {
    "name": "ipython",
    "version": 3
   },
   "file_extension": ".py",
   "mimetype": "text/x-python",
   "name": "python",
   "nbconvert_exporter": "python",
   "pygments_lexer": "ipython3",
   "version": "3.9.15"
  }
 },
 "nbformat": 4,
 "nbformat_minor": 2
}
