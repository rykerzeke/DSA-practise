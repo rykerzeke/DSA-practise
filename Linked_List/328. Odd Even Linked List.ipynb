{
 "cells": [
  {
   "cell_type": "code",
   "execution_count": null,
   "metadata": {},
   "outputs": [],
   "source": [
    "class Solution:\n",
    "             def oddEvenList(self, head: Optional[ListNode]) -> Optional[ListNode]:\n",
    "        if not head: return None\n",
    "\n",
    "        # odd points to the first node \n",
    "        odd = head\n",
    "        # even points to the second node\n",
    "        # evenHead will be used at the end to connect odd and even nodes\n",
    "        evenHead = even = head.next\n",
    "\n",
    "        # This condition makes sure odd can never be None, since the odd node will always be the one before the even node.\n",
    "        # If even is not None, then odd is not None. (odd before even)\n",
    "        # If even.next is not None, then after we update odd to the next odd node, it cannot be None. (The next odd node is even.next)\n",
    "        while even and even.next:\n",
    "\n",
    "            # Connect the current odd node to the next odd node\n",
    "            odd.next = odd.next.next\n",
    "            # Move the current odd node to the next odd node\n",
    "            odd = odd.next\n",
    "\n",
    "            #Same thing for even node\n",
    "            even.next = even.next.next\n",
    "            even = even.next\n",
    "\n",
    "        # Connect the last odd node to the start of the even node\n",
    "        odd.next = evenHead\n",
    "\n",
    "        # head never changed, so return it\n",
    "        return head\n"
   ]
  },
  {
   "cell_type": "code",
   "execution_count": null,
   "metadata": {},
   "outputs": [],
   "source": [
    "class Solution:\n",
    "             def oddEvenList(self, head: Optional[ListNode]) -> Optional[ListNode]:\n",
    "        if not head: return None\n",
    "\n",
    "        odd = head\n",
    "        evenHead = even = head.next\n",
    "        while even and even.next:\n",
    "            odd.next = odd.next.next\n",
    "            odd = odd.next\n",
    "            even.next = even.next.next\n",
    "            even = even.next\n",
    "        odd.next = evenHead\n",
    "        return head\n"
   ]
  }
 ],
 "metadata": {
  "language_info": {
   "name": "python"
  }
 },
 "nbformat": 4,
 "nbformat_minor": 2
}
